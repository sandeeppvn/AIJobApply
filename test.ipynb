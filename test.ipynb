{
 "cells": [
  {
   "cell_type": "code",
   "execution_count": 1,
   "metadata": {},
   "outputs": [],
   "source": [
    "import pandas as pd\n",
    "from google.oauth2 import service_account\n",
    "from googleapiclient.discovery import build\n",
    "from googleapiclient.http import MediaIoBaseDownload\n",
    "from googleapiclient.http import MediaFileUpload\n",
    "import io\n",
    "from googleapiclient.errors import HttpError"
   ]
  },
  {
   "cell_type": "code",
   "execution_count": 3,
   "metadata": {},
   "outputs": [],
   "source": [
    "scope = ['https://www.googleapis.com/auth/drive']\n",
    "service_account_file = 'credentials/google_api_credentials.json'\n",
    "credentials = service_account.Credentials.from_service_account_file(service_account_file, scopes=scope)\n",
    "service = build('drive', 'v3', credentials=credentials)"
   ]
  },
  {
   "cell_type": "code",
   "execution_count": 8,
   "metadata": {},
   "outputs": [],
   "source": [
    "# Method to upload file to google drive in a specific folder\n",
    "def upload_file(file_name, file_path, folder_id):\n",
    "    file_metadata = {'name': file_name, 'parents': [folder_id]}\n",
    "    media = MediaFileUpload(file_path, resumable=True)\n",
    "    file = service.files().create(body=file_metadata, media_body=media, fields='id').execute()\n",
    "    print('File ID: %s' % file.get('id'))\n",
    "\n",
    "# Method to fetch folder id from google drive based on folder name\n",
    "def get_folder_id(folder_name):\n",
    "    folder_id = None\n",
    "    page_token = None\n",
    "    while True:\n",
    "        response = service.files().list(q=\"mimeType='application/vnd.google-apps.folder' and name='\" + folder_name + \"'\",\n",
    "                                              spaces='drive',\n",
    "                                              fields='nextPageToken, files(id, name)',\n",
    "                                              pageToken=page_token).execute()\n",
    "        for file in response.get('files', []):\n",
    "            folder_id = file.get('id')\n",
    "        page_token = response.get('nextPageToken', None)\n",
    "        if page_token is None:\n",
    "            break\n",
    "    return folder_id\n"
   ]
  },
  {
   "cell_type": "code",
   "execution_count": 9,
   "metadata": {},
   "outputs": [
    {
     "name": "stdout",
     "output_type": "stream",
     "text": [
      "File ID: 1VENYBOhVjPgi-pJPz6OsLuew19ZF0MS0\n"
     ]
    }
   ],
   "source": [
    "import docx\n",
    "doc = docx.Document()\n",
    "doc.add_paragraph('Hello world!')\n",
    "doc.save('test.docx')\n",
    "\n",
    "# Obtain folder id for the folder where you want to upload the file\n",
    "folder_id = get_folder_id('Job Applications')\n",
    "\n",
    "# Upload file to google drive\n",
    "upload_file('test.docx', 'test.docx', folder_id)"
   ]
  },
  {
   "cell_type": "code",
   "execution_count": null,
   "metadata": {},
   "outputs": [],
   "source": []
  }
 ],
 "metadata": {
  "kernelspec": {
   "display_name": ".venv",
   "language": "python",
   "name": "python3"
  },
  "language_info": {
   "codemirror_mode": {
    "name": "ipython",
    "version": 3
   },
   "file_extension": ".py",
   "mimetype": "text/x-python",
   "name": "python",
   "nbconvert_exporter": "python",
   "pygments_lexer": "ipython3",
   "version": "3.11.6"
  }
 },
 "nbformat": 4,
 "nbformat_minor": 2
}
